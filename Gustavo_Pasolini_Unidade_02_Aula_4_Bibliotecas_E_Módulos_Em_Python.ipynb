{
  "nbformat": 4,
  "nbformat_minor": 0,
  "metadata": {
    "colab": {
      "provenance": [],
      "authorship_tag": "ABX9TyNJF44zmHLqOy63JcsWJXZh",
      "include_colab_link": true
    },
    "kernelspec": {
      "name": "python3",
      "display_name": "Python 3"
    },
    "language_info": {
      "name": "python"
    }
  },
  "cells": [
    {
      "cell_type": "markdown",
      "metadata": {
        "id": "view-in-github",
        "colab_type": "text"
      },
      "source": [
        "<a href=\"https://colab.research.google.com/github/guspasolini/EngSoft/blob/main/Gustavo_Pasolini_Unidade_02_Aula_4_Bibliotecas_E_M%C3%B3dulos_Em_Python.ipynb\" target=\"_parent\"><img src=\"https://colab.research.google.com/assets/colab-badge.svg\" alt=\"Open In Colab\"/></a>"
      ]
    },
    {
      "cell_type": "code",
      "execution_count": 36,
      "metadata": {
        "id": "v1VdfTFkUj3i"
      },
      "outputs": [],
      "source": [
        "import matplotlib.pyplot as plt #Instalação do Matplotlib\n",
        "\n",
        "#Classe para representar um livro\n",
        "class Livro:\n",
        "    def __init__(self, titulo, autor, genero, quantidade):\n",
        "        self.titulo = titulo\n",
        "        self.autor = autor\n",
        "        self.genero = genero\n",
        "        self.quantidade = quantidade\n",
        "\n",
        "#Função dentro da classe para retornar as informações dos livros\n",
        "    def __str__(self):\n",
        "        return f\"{self.titulo} por {self.autor}, Genero: {self.genero}, Quantidade: {self.quantidade}\"\n",
        "\n",
        "#Criar lista de livros\n",
        "\n",
        "biblioteca = []\n",
        "\n",
        "#Listas para armazenar titulo\n",
        "\n",
        "nome_livros = []\n",
        "\n"
      ]
    },
    {
      "cell_type": "code",
      "source": [
        "#Função para adicionar um livro à biblioteca\n",
        "def adicionar_livro(titulo, autor, genero, quantidade):\n",
        "    novo_livro = Livro(titulo, autor, genero, quantidade)\n",
        "    biblioteca.append(novo_livro)\n",
        "    nome_livros.append(titulo) #Lista de nomes dos livros\n",
        "    print(f\"O livro '{titulo}' foi adicionado à biblioteca.\")\n",
        "\n"
      ],
      "metadata": {
        "id": "2Fe9OThmU4Om"
      },
      "execution_count": 37,
      "outputs": []
    },
    {
      "cell_type": "code",
      "source": [
        "#Função para listas todos os livros da biblioteca\n",
        "def listar_livros():\n",
        "    print(\"Livros da Biblioteca:\")\n",
        "    for livro in biblioteca:\n",
        "        print(livro)\n",
        "\n"
      ],
      "metadata": {
        "id": "XFDYpvuXU7aV"
      },
      "execution_count": 38,
      "outputs": []
    },
    {
      "cell_type": "code",
      "source": [
        "#Função para buscar livro e verificar se está em estoque\n",
        "def buscar_livro():\n",
        "    busca = input(\"Digite o título do livro que procura: \")\n",
        "    try:\n",
        "        nome_livros.index(busca)\n",
        "        print(f\"O livro '{busca}' está em estoque.\")\n",
        "    except ValueError:\n",
        "        print(f\"O livro '{busca}' não está em estoque.\")\n",
        "\n",
        "\n"
      ],
      "metadata": {
        "id": "wh4YzsCpU9Ku"
      },
      "execution_count": 39,
      "outputs": []
    },
    {
      "cell_type": "code",
      "source": [
        "#Adicionar os inputs\n",
        "adicionar_livro(\"Dom Quixote\", \"Miguel de Cervantes\", \"Romance\", 3)\n",
        "adicionar_livro(\"Orgulho e Preconceito\", \"Jane Austen\", \"Romance Histórico\", 5)\n",
        "adicionar_livro(\"1984\", \"George Orwell\", \"Distópico\", 6)\n",
        "adicionar_livro(\"Cem Anos de Solidão\", \"Gabriel Garcia Marquez\", \"Romance Histórico\", 2)\n",
        "adicionar_livro(\"Apanhador no Campo de Centeio\", \"J.D. Salinger\", \"Romance\", 6)\n",
        "adicionar_livro(\"O Velho e o Mar\", \"Ernest Hemingway\", \"Novela\", 1)\n",
        "\n"
      ],
      "metadata": {
        "colab": {
          "base_uri": "https://localhost:8080/"
        },
        "id": "OGbVoowbU_JO",
        "outputId": "5715f1a8-0279-4d4a-f70c-029c8798780f"
      },
      "execution_count": 40,
      "outputs": [
        {
          "output_type": "stream",
          "name": "stdout",
          "text": [
            "O livro 'Dom Quixote' foi adicionado à biblioteca.\n",
            "O livro 'Orgulho e Preconceito' foi adicionado à biblioteca.\n",
            "O livro '1984' foi adicionado à biblioteca.\n",
            "O livro 'Cem Anos de Solidão' foi adicionado à biblioteca.\n",
            "O livro 'Apanhador no Campo de Centeio' foi adicionado à biblioteca.\n",
            "O livro 'O Velho e o Mar' foi adicionado à biblioteca.\n"
          ]
        }
      ]
    },
    {
      "cell_type": "code",
      "source": [
        "#Listar todos os livros da biblioteca\n",
        "listar_livros()\n"
      ],
      "metadata": {
        "colab": {
          "base_uri": "https://localhost:8080/"
        },
        "id": "YDC-c_XjVE42",
        "outputId": "07a61e90-ae48-48f0-fdec-c841d4ef1004"
      },
      "execution_count": 41,
      "outputs": [
        {
          "output_type": "stream",
          "name": "stdout",
          "text": [
            "Livros da Biblioteca:\n",
            "Dom Quixote por Miguel de Cervantes, Genero: Romance, Quantidade: 3\n",
            "Orgulho e Preconceito por Jane Austen, Genero: Romance Histórico, Quantidade: 5\n",
            "1984 por George Orwell, Genero: Distópico, Quantidade: 6\n",
            "Cem Anos de Solidão por Gabriel Garcia Marquez, Genero: Romance Histórico, Quantidade: 2\n",
            "Apanhador no Campo de Centeio por J.D. Salinger, Genero: Romance, Quantidade: 6\n",
            "O Velho e o Mar por Ernest Hemingway, Genero: Novela, Quantidade: 1\n"
          ]
        }
      ]
    },
    {
      "cell_type": "code",
      "source": [
        "#Buscar Livros pelo título\n",
        "buscar_livro()\n",
        "\n"
      ],
      "metadata": {
        "id": "5VtHUhxkVGI9",
        "colab": {
          "base_uri": "https://localhost:8080/"
        },
        "outputId": "59df080f-70d3-48aa-dba7-204be81604bb"
      },
      "execution_count": 43,
      "outputs": [
        {
          "output_type": "stream",
          "name": "stdout",
          "text": [
            "Digite o título do livro que procura: 1984\n",
            "O livro '1984' está em estoque.\n"
          ]
        }
      ]
    },
    {
      "cell_type": "code",
      "source": [
        "quantidade_genero = {} #Dicionário para acumular a soma por gênero\n",
        "\n",
        "for livro in biblioteca:\n",
        "    if livro.genero in quantidade_genero:\n",
        "        quantidade_genero[livro.genero] += livro.quantidade #Se é o mesmo, soma na quantidade\n",
        "    else:\n",
        "        quantidade_genero[livro.genero] = livro.quantidade #Se não for, mantém o mesmo valor\n",
        "\n",
        "#Preparando os dados do gráfico\n",
        "generos = list(quantidade_genero.keys())\n",
        "quantidades = list(quantidade_genero.values())\n"
      ],
      "metadata": {
        "id": "HZHB0JaFVH8G"
      },
      "execution_count": 46,
      "outputs": []
    },
    {
      "cell_type": "code",
      "source": [
        "print(generos, quantidades)"
      ],
      "metadata": {
        "colab": {
          "base_uri": "https://localhost:8080/"
        },
        "id": "eGhrbFNlbI82",
        "outputId": "dd176a0b-d64b-48a1-eb58-5005ee405920"
      },
      "execution_count": 50,
      "outputs": [
        {
          "output_type": "stream",
          "name": "stdout",
          "text": [
            "['Romance', 'Romance Histórico', 'Distópico', 'Novela'] [9, 7, 6, 1]\n"
          ]
        }
      ]
    },
    {
      "cell_type": "code",
      "source": [
        "\n",
        "# Criando gráfico de barras\n",
        "plt.bar(generos, quantidades, color=\"royalblue\")\n",
        "plt.title(\"Quantidade de Livros por Gênero\")\n",
        "plt.xlabel(\"Gênero\")\n",
        "plt.ylabel(\"Quantidade de Livros\")\n",
        "plt.show()"
      ],
      "metadata": {
        "colab": {
          "base_uri": "https://localhost:8080/",
          "height": 473
        },
        "id": "0-Td3vX9bGqf",
        "outputId": "6936e404-4b3a-475e-fa32-16f315a06e8c"
      },
      "execution_count": 51,
      "outputs": [
        {
          "output_type": "display_data",
          "data": {
            "text/plain": [
              "<Figure size 640x480 with 1 Axes>"
            ],
            "image/png": "[encoded data removed]"
          },
          "metadata": {}
        }
      ]
    }
  ]
}